{
 "cells": [
  {
   "cell_type": "code",
   "execution_count": null,
   "metadata": {},
   "outputs": [],
   "source": [
    "import os\n",
    "import numpy as np\n",
    "import nibabel as nib\n",
    "import cv2\n",
    "from tqdm import tqdm"
   ]
  },
  {
   "cell_type": "markdown",
   "metadata": {},
   "source": [
    "# Extract NifTI dataset"
   ]
  },
  {
   "cell_type": "code",
   "execution_count": null,
   "metadata": {},
   "outputs": [],
   "source": [
    "# Directories\n",
    "input_dir = \"D:/coding/SKRIPSI/CODE/ImageCHD_dataset\"\n",
    "output_image_dir = \"D:/coding/SKRIPSI/CODE/yolo_data/images\"\n",
    "output_label_dir = \"D:/coding/SKRIPSI/CODE/yolo_data/labels\"\n",
    "\n",
    "# Ensure output directories exist\n",
    "os.makedirs(output_image_dir, exist_ok=True)\n",
    "os.makedirs(output_label_dir, exist_ok=True)\n",
    "\n",
    "# Get all image files\n",
    "nii_files = sorted([f for f in os.listdir(input_dir) if f.endswith(\"_image.nii.gz\")])\n",
    "\n",
    "# Function to convert NIfTI to JPG\n",
    "def convert_nifti_to_jpg(nifti_path, output_dir, is_label=False):\n",
    "    # Load NIfTI file\n",
    "    nifti_img = nib.load(nifti_path)\n",
    "    image_data = nifti_img.get_fdata()\n",
    "\n",
    "    # Normalize image (for visualization)\n",
    "    if not is_label:\n",
    "        image_data = (image_data - np.min(image_data)) / (np.max(image_data) - np.min(image_data)) * 255\n",
    "\n",
    "    # Convert each slice to JPG\n",
    "    filename = os.path.basename(nifti_path).replace(\"_image.nii.gz\", \"\").replace(\"_label.nii.gz\", \"\")\n",
    "    for i in range(image_data.shape[2]):  # Iterate over slices\n",
    "        slice_img = image_data[:, :, i]\n",
    "\n",
    "        # Convert label to binary (thresholding)\n",
    "        if is_label:\n",
    "            slice_img = (slice_img > 0).astype(np.uint8) * 255  \n",
    "\n",
    "        # Save as JPG\n",
    "        output_path = os.path.join(output_dir, f\"{filename}_{i:03d}.jpg\")\n",
    "        cv2.imwrite(output_path, slice_img)\n",
    "\n",
    "# Process all images\n",
    "print(\"🔄 Converting groundtruth images...\")\n",
    "for nii_file in tqdm(nii_files):\n",
    "    convert_nifti_to_jpg(os.path.join(input_dir, nii_file), output_image_dir, is_label=False)\n",
    "\n",
    "# Process all labels\n",
    "print(\"🔄 Converting label masks (binary)...\")\n",
    "label_files = sorted([f.replace(\"_image.nii.gz\", \"_label.nii.gz\") for f in nii_files])\n",
    "for label_file in tqdm(label_files):\n",
    "    convert_nifti_to_jpg(os.path.join(input_dir, label_file), output_label_dir, is_label=True)\n",
    "\n",
    "print(\"✅ Conversion complete! All images & labels are saved in YOLO format.\")\n"
   ]
  }
 ],
 "metadata": {
  "kernelspec": {
   "display_name": "skripsi",
   "language": "python",
   "name": "python3"
  },
  "language_info": {
   "codemirror_mode": {
    "name": "ipython",
    "version": 3
   },
   "file_extension": ".py",
   "mimetype": "text/x-python",
   "name": "python",
   "nbconvert_exporter": "python",
   "pygments_lexer": "ipython3",
   "version": "3.10.16"
  }
 },
 "nbformat": 4,
 "nbformat_minor": 2
}
