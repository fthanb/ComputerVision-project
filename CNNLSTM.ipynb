{
 "cells": [
  {
   "cell_type": "code",
   "execution_count": 18,
   "id": "d9896851",
   "metadata": {},
   "outputs": [],
   "source": [
    "import os\n",
    "os.environ[\"PYTORCH_CUDA_ALLOC_CONF\"] = \"max_split_size_mb:128\"\n",
    "\n",
    "import glob\n",
    "import torch\n",
    "import torch.nn as nn\n",
    "from torch.utils.data import Dataset, DataLoader, random_split\n",
    "from torchvision import transforms\n",
    "from PIL import Image\n",
    "import numpy as np\n",
    "from tqdm import tqdm\n",
    "from torchvision import models\n",
    "import matplotlib.pyplot as plt\n",
    "from collections import Counter\n",
    "from sklearn.model_selection import train_test_split"
   ]
  },
  {
   "cell_type": "code",
   "execution_count": 19,
   "id": "cf3868c7",
   "metadata": {},
   "outputs": [],
   "source": [
    "DATA_DIR = r\"D:\\coding\\SKRIPSI\\CNNLSTM\\images\"\n",
    "BATCH_SIZE = 1\n",
    "MAX_FRAMES = 200\n",
    "IMG_SIZE = 512\n",
    "EPOCHS = 20\n",
    "LEARNING_RATE = 1e-3\n",
    "DEVICE = \"cuda\""
   ]
  },
  {
   "cell_type": "markdown",
   "id": "dc4c06d3",
   "metadata": {},
   "source": [
    "## Mapping (labels)"
   ]
  },
  {
   "cell_type": "code",
   "execution_count": 20,
   "id": "3bd1ff99",
   "metadata": {},
   "outputs": [],
   "source": [
    "id_to_label = {\n",
    "    \"Non-Sianotik\": [1001, 1002, 1007, 1011, 1014, 1018, 1019, 1020, 1025, 1029, 1033, 1035, 1036, 1041, 1047, 1061, 1070, 1079, 1103, 1132],\n",
    "    \"Sianotik\": [1010, 1012, 1015, 1028, 1037, 1050, 1064, 1074, 1085, 1092, 1099, 1111, 1113, 1120, 1129, 1145, 1146, 1147],\n",
    "    \"Normal\": [1003, 1005, 1032, 1051, 1062, 1063, 1066, 1067, 1072, 1078, 1080, 1083, 1101, 1116, 1117, 1127, 1128, 1143, 1144],\n",
    "}\n",
    "label_to_idx = {label: i for i, label in enumerate(id_to_label)}\n",
    "patient_to_label = {}\n",
    "for label, ids in id_to_label.items():\n",
    "    for pid in ids:\n",
    "        patient_to_label[str(pid)] = label"
   ]
  },
  {
   "cell_type": "code",
   "execution_count": null,
   "id": "b74efc0a",
   "metadata": {},
   "outputs": [],
   "source": [
    "class HeartSequenceDataset(Dataset):\n",
    "    def __init__(self, image_dir, transform=None, max_frames=MAX_FRAMES):\n",
    "        self.image_dir = image_dir\n",
    "        self.transform = transform\n",
    "        self.max_frames = max_frames\n",
    "        self.patient_dict = {}\n",
    "\n",
    "        all_image_paths = glob.glob(os.path.join(image_dir, \"*.jpg\"))\n",
    "        for path in sorted(all_image_paths):\n",
    "            basename = os.path.basename(path)\n",
    "            try:\n",
    "                pid = basename.split(\"_\")[1]\n",
    "            except:\n",
    "                continue\n",
    "            if pid not in patient_to_label:\n",
    "                continue\n",
    "            if pid not in self.patient_dict:\n",
    "                self.patient_dict[pid] = []\n",
    "            self.patient_dict[pid].append(path)\n",
    "            self.image_paths.append(path)  # <== Simpan semua path valid\n",
    "\n",
    "        self.patient_ids = list(self.patient_dict.keys())\n",
    "        print(f\"Total valid patients found: {len(self.patient_ids)}\")\n",
    "\n",
    "    def __len__(self):\n",
    "        return len(self.patient_ids)\n",
    "\n",
    "    def __getitem__(self, idx):\n",
    "        pid = self.patient_ids[idx]\n",
    "        image_paths = sorted(self.patient_dict[pid])[:self.max_frames]\n",
    "\n",
    "        frames = []\n",
    "        for img_path in image_paths:\n",
    "            img = Image.open(img_path).convert(\"L\").resize((IMG_SIZE, IMG_SIZE))\n",
    "            img_tensor = transforms.ToTensor()(img)\n",
    "            frames.append(img_tensor)\n",
    "\n",
    "        # Padding if frames < max\n",
    "        while len(frames) < self.max_frames:\n",
    "            frames.append(torch.zeros_like(frames[0]))\n",
    "\n",
    "        video_tensor = torch.stack(frames)  # shape: (T, C, H, W)\n",
    "        label = label_to_idx[patient_to_label[pid]]\n",
    "\n",
    "        return video_tensor, label\n"
   ]
  },
  {
   "cell_type": "markdown",
   "id": "6c226542",
   "metadata": {},
   "source": [
    "## Model"
   ]
  },
  {
   "cell_type": "markdown",
   "id": "317ec415",
   "metadata": {},
   "source": [
    "### CNN LSTM"
   ]
  },
  {
   "cell_type": "code",
   "execution_count": 22,
   "id": "32d036fe",
   "metadata": {},
   "outputs": [],
   "source": [
    "class CNNLSTM(nn.Module):\n",
    "    def __init__(self, hidden_dim=128, num_classes=3):\n",
    "        super(CNNLSTM, self).__init__()\n",
    "        self.cnn = nn.Sequential(\n",
    "            nn.Conv2d(1, 8, kernel_size=3, padding=1),\n",
    "            nn.ReLU(),\n",
    "            nn.MaxPool2d(2),\n",
    "            nn.Conv2d(8, 16, kernel_size=3, padding=1),\n",
    "            nn.ReLU(),\n",
    "            nn.AdaptiveAvgPool2d((8, 8))\n",
    "        )\n",
    "        self.lstm = nn.LSTM(input_size=16*8*8, hidden_size=hidden_dim, batch_first=True)\n",
    "        self.classifier = nn.Linear(hidden_dim, num_classes)\n",
    "\n",
    "    def forward(self, x):  # x: (B, T, C, H, W)\n",
    "        B, T, C, H, W = x.size()\n",
    "        x = x.view(B * T, C, H, W)\n",
    "        features = self.cnn(x)  # (B*T, C, H, W)\n",
    "        features = features.view(B, T, -1)\n",
    "        lstm_out, _ = self.lstm(features)\n",
    "        last_hidden = lstm_out[:, -1, :]\n",
    "        output = self.classifier(last_hidden)\n",
    "        return output"
   ]
  },
  {
   "cell_type": "markdown",
   "id": "71e918a5",
   "metadata": {},
   "source": [
    "## Training"
   ]
  },
  {
   "cell_type": "code",
   "execution_count": 23,
   "id": "ecb450fd",
   "metadata": {},
   "outputs": [],
   "source": [
    "def get_dataset_splits(dataset, test_size=0.2):\n",
    "    labels = [label_to_idx[patient_to_label[pid]] for pid in dataset.patient_ids]\n",
    "    train_idx, val_idx = train_test_split(range(len(labels)), test_size=test_size, stratify=labels, random_state=42)\n",
    "    train_dataset = torch.utils.data.Subset(dataset, train_idx)\n",
    "    val_dataset = torch.utils.data.Subset(dataset, val_idx)\n",
    "    return train_dataset, val_dataset, [labels[i] for i in train_idx]"
   ]
  },
  {
   "cell_type": "code",
   "execution_count": null,
   "id": "6163b98a",
   "metadata": {},
   "outputs": [],
   "source": [
    "def train_model():\n",
    "    dataset = HeartSequenceDataset(DATA_DIR)\n",
    "    train_dataset, val_dataset, train_labels = get_dataset_splits(dataset)\n",
    "\n",
    "    train_loader = DataLoader(train_dataset, batch_size=BATCH_SIZE, shuffle=True, pin_memory=True, num_workers=0)\n",
    "    val_loader = DataLoader(val_dataset, batch_size=BATCH_SIZE, pin_memory=True, num_workers=0)\n",
    "\n",
    "    model = CNNLSTM().to(DEVICE)\n",
    "    optimizer = torch.optim.Adam(model.parameters(), lr=LEARNING_RATE)\n",
    "\n",
    "    label_counts = Counter(train_labels)\n",
    "    total = sum(label_counts.values())\n",
    "    class_weights = [total / label_counts[i] for i in range(3)]\n",
    "    criterion = nn.CrossEntropyLoss(weight=torch.tensor(class_weights).float().to(DEVICE))\n",
    "\n",
    "    for epoch in range(EPOCHS):\n",
    "        model.train()\n",
    "        total_loss, correct = 0, 0\n",
    "        for inputs, labels in tqdm(train_loader, desc=f\"Epoch {epoch+1}/{EPOCHS}\"):\n",
    "            inputs, labels = inputs.to(DEVICE), labels.to(DEVICE)\n",
    "            optimizer.zero_grad()\n",
    "            with autocast():\n",
    "                outputs = model(inputs)\n",
    "                loss = criterion(outputs, labels)\n",
    "            scaler.scale(loss).backward()\n",
    "            scaler.step(optimizer)\n",
    "            scaler.update()\n",
    "\n",
    "            total_loss += loss.item()\n",
    "            correct += (outputs.argmax(1) == labels).sum().item()\n",
    "\n",
    "        acc = correct / len(train_loader.dataset)\n",
    "        print(f\"Train Loss: {total_loss:.4f} | Train Acc: {acc:.4f}\")\n",
    "\n",
    "        # Validation\n",
    "        model.eval()\n",
    "        val_correct = 0\n",
    "        with torch.no_grad():\n",
    "            for inputs, labels in val_loader:\n",
    "                inputs, labels = inputs.to(DEVICE), labels.to(DEVICE)\n",
    "                outputs = model(inputs)\n",
    "                val_correct += (outputs.argmax(1) == labels).sum().item()\n",
    "        val_acc = val_correct / len(val_loader.dataset)\n",
    "        print(f\"Val Acc: {val_acc:.4f}\\n\")\n",
    "\n",
    "    torch.save(model.state_dict(), \"cnn_lstm_model.pth\")\n"
   ]
  },
  {
   "cell_type": "code",
   "execution_count": 25,
   "id": "da422168",
   "metadata": {},
   "outputs": [
    {
     "name": "stdout",
     "output_type": "stream",
     "text": [
      "Total valid patients found: 57\n"
     ]
    },
    {
     "name": "stderr",
     "output_type": "stream",
     "text": [
      "Epoch 1/20:   0%|          | 0/45 [00:00<?, ?it/s]C:\\Users\\Lenovo\\AppData\\Local\\Temp\\ipykernel_7780\\1050181036.py:23: FutureWarning: `torch.cuda.amp.autocast(args...)` is deprecated. Please use `torch.amp.autocast('cuda', args...)` instead.\n",
      "  with autocast():\n",
      "Epoch 1/20: 100%|██████████| 45/45 [02:03<00:00,  2.74s/it]\n"
     ]
    },
    {
     "name": "stdout",
     "output_type": "stream",
     "text": [
      "Train Loss: 50.4072 | Train Acc: 0.2889\n",
      "Val Acc: 0.3333\n",
      "\n"
     ]
    },
    {
     "name": "stderr",
     "output_type": "stream",
     "text": [
      "Epoch 2/20: 100%|██████████| 45/45 [01:47<00:00,  2.38s/it]\n"
     ]
    },
    {
     "name": "stdout",
     "output_type": "stream",
     "text": [
      "Train Loss: 49.5688 | Train Acc: 0.3556\n",
      "Val Acc: 0.3333\n",
      "\n"
     ]
    },
    {
     "name": "stderr",
     "output_type": "stream",
     "text": [
      "Epoch 3/20: 100%|██████████| 45/45 [01:45<00:00,  2.35s/it]\n"
     ]
    },
    {
     "name": "stdout",
     "output_type": "stream",
     "text": [
      "Train Loss: 49.5059 | Train Acc: 0.3111\n",
      "Val Acc: 0.3333\n",
      "\n"
     ]
    },
    {
     "name": "stderr",
     "output_type": "stream",
     "text": [
      "Epoch 4/20: 100%|██████████| 45/45 [01:45<00:00,  2.35s/it]\n"
     ]
    },
    {
     "name": "stdout",
     "output_type": "stream",
     "text": [
      "Train Loss: 49.6680 | Train Acc: 0.2889\n",
      "Val Acc: 0.3333\n",
      "\n"
     ]
    },
    {
     "name": "stderr",
     "output_type": "stream",
     "text": [
      "Epoch 5/20: 100%|██████████| 45/45 [01:45<00:00,  2.35s/it]\n"
     ]
    },
    {
     "name": "stdout",
     "output_type": "stream",
     "text": [
      "Train Loss: 50.1768 | Train Acc: 0.3556\n",
      "Val Acc: 0.3333\n",
      "\n"
     ]
    },
    {
     "name": "stderr",
     "output_type": "stream",
     "text": [
      "Epoch 6/20: 100%|██████████| 45/45 [01:48<00:00,  2.40s/it]\n"
     ]
    },
    {
     "name": "stdout",
     "output_type": "stream",
     "text": [
      "Train Loss: 49.2959 | Train Acc: 0.3556\n",
      "Val Acc: 0.3333\n",
      "\n"
     ]
    },
    {
     "name": "stderr",
     "output_type": "stream",
     "text": [
      "Epoch 7/20: 100%|██████████| 45/45 [01:46<00:00,  2.37s/it]\n"
     ]
    },
    {
     "name": "stdout",
     "output_type": "stream",
     "text": [
      "Train Loss: 49.1709 | Train Acc: 0.3333\n",
      "Val Acc: 0.3333\n",
      "\n"
     ]
    },
    {
     "name": "stderr",
     "output_type": "stream",
     "text": [
      "Epoch 8/20: 100%|██████████| 45/45 [01:48<00:00,  2.42s/it]\n"
     ]
    },
    {
     "name": "stdout",
     "output_type": "stream",
     "text": [
      "Train Loss: 50.9102 | Train Acc: 0.4444\n",
      "Val Acc: 0.2500\n",
      "\n"
     ]
    },
    {
     "name": "stderr",
     "output_type": "stream",
     "text": [
      "Epoch 9/20: 100%|██████████| 45/45 [01:47<00:00,  2.38s/it]\n"
     ]
    },
    {
     "name": "stdout",
     "output_type": "stream",
     "text": [
      "Train Loss: 48.3291 | Train Acc: 0.4222\n",
      "Val Acc: 0.4167\n",
      "\n"
     ]
    },
    {
     "name": "stderr",
     "output_type": "stream",
     "text": [
      "Epoch 10/20: 100%|██████████| 45/45 [01:48<00:00,  2.41s/it]\n"
     ]
    },
    {
     "name": "stdout",
     "output_type": "stream",
     "text": [
      "Train Loss: 48.0601 | Train Acc: 0.3556\n",
      "Val Acc: 0.5000\n",
      "\n"
     ]
    },
    {
     "name": "stderr",
     "output_type": "stream",
     "text": [
      "Epoch 11/20: 100%|██████████| 45/45 [01:42<00:00,  2.28s/it]\n"
     ]
    },
    {
     "name": "stdout",
     "output_type": "stream",
     "text": [
      "Train Loss: 47.4502 | Train Acc: 0.4000\n",
      "Val Acc: 0.3333\n",
      "\n"
     ]
    },
    {
     "name": "stderr",
     "output_type": "stream",
     "text": [
      "Epoch 12/20: 100%|██████████| 45/45 [01:42<00:00,  2.28s/it]\n"
     ]
    },
    {
     "name": "stdout",
     "output_type": "stream",
     "text": [
      "Train Loss: 46.3733 | Train Acc: 0.4444\n",
      "Val Acc: 0.5000\n",
      "\n"
     ]
    },
    {
     "name": "stderr",
     "output_type": "stream",
     "text": [
      "Epoch 13/20: 100%|██████████| 45/45 [01:42<00:00,  2.28s/it]\n"
     ]
    },
    {
     "name": "stdout",
     "output_type": "stream",
     "text": [
      "Train Loss: 43.6577 | Train Acc: 0.5111\n",
      "Val Acc: 0.3333\n",
      "\n"
     ]
    },
    {
     "name": "stderr",
     "output_type": "stream",
     "text": [
      "Epoch 14/20: 100%|██████████| 45/45 [01:43<00:00,  2.30s/it]\n"
     ]
    },
    {
     "name": "stdout",
     "output_type": "stream",
     "text": [
      "Train Loss: 41.9852 | Train Acc: 0.5778\n",
      "Val Acc: 0.4167\n",
      "\n"
     ]
    },
    {
     "name": "stderr",
     "output_type": "stream",
     "text": [
      "Epoch 15/20: 100%|██████████| 45/45 [01:43<00:00,  2.31s/it]\n"
     ]
    },
    {
     "name": "stdout",
     "output_type": "stream",
     "text": [
      "Train Loss: 41.4545 | Train Acc: 0.5111\n",
      "Val Acc: 0.4167\n",
      "\n"
     ]
    },
    {
     "name": "stderr",
     "output_type": "stream",
     "text": [
      "Epoch 16/20: 100%|██████████| 45/45 [01:42<00:00,  2.28s/it]\n"
     ]
    },
    {
     "name": "stdout",
     "output_type": "stream",
     "text": [
      "Train Loss: 39.5602 | Train Acc: 0.6000\n",
      "Val Acc: 0.3333\n",
      "\n"
     ]
    },
    {
     "name": "stderr",
     "output_type": "stream",
     "text": [
      "Epoch 17/20: 100%|██████████| 45/45 [01:43<00:00,  2.30s/it]\n"
     ]
    },
    {
     "name": "stdout",
     "output_type": "stream",
     "text": [
      "Train Loss: 32.4060 | Train Acc: 0.6000\n",
      "Val Acc: 0.3333\n",
      "\n"
     ]
    },
    {
     "name": "stderr",
     "output_type": "stream",
     "text": [
      "Epoch 18/20: 100%|██████████| 45/45 [01:42<00:00,  2.29s/it]\n"
     ]
    },
    {
     "name": "stdout",
     "output_type": "stream",
     "text": [
      "Train Loss: 40.2218 | Train Acc: 0.5778\n",
      "Val Acc: 0.2500\n",
      "\n"
     ]
    },
    {
     "name": "stderr",
     "output_type": "stream",
     "text": [
      "Epoch 19/20: 100%|██████████| 45/45 [01:43<00:00,  2.31s/it]\n"
     ]
    },
    {
     "name": "stdout",
     "output_type": "stream",
     "text": [
      "Train Loss: 34.6385 | Train Acc: 0.6889\n",
      "Val Acc: 0.4167\n",
      "\n"
     ]
    },
    {
     "name": "stderr",
     "output_type": "stream",
     "text": [
      "Epoch 20/20: 100%|██████████| 45/45 [01:42<00:00,  2.29s/it]\n"
     ]
    },
    {
     "name": "stdout",
     "output_type": "stream",
     "text": [
      "Train Loss: 33.1981 | Train Acc: 0.6444\n",
      "Val Acc: 0.3333\n",
      "\n"
     ]
    }
   ],
   "source": [
    "if __name__ == \"__main__\":\n",
    "    train_model()"
   ]
  },
  {
   "cell_type": "markdown",
   "id": "34f41f1b",
   "metadata": {},
   "source": [
    "## Evaluation"
   ]
  },
  {
   "cell_type": "code",
   "execution_count": 26,
   "id": "f980fdc2",
   "metadata": {},
   "outputs": [],
   "source": [
    "from sklearn.metrics import classification_report\n",
    "\n",
    "def evaluate_model(model, dataloader, class_names=['Non-Sianotik', 'Sianotik', 'Normal']):\n",
    "    model.eval()\n",
    "    all_preds = []\n",
    "    all_labels = []\n",
    "\n",
    "    with torch.no_grad():\n",
    "        for inputs, labels in dataloader:\n",
    "            inputs, labels = inputs.to(DEVICE), labels.to(DEVICE)\n",
    "            outputs = model(inputs)\n",
    "            preds = outputs.argmax(dim=1)\n",
    "            all_preds.extend(preds.cpu().numpy())\n",
    "            all_labels.extend(labels.cpu().numpy())\n",
    "\n",
    "    # Classification Report\n",
    "    print(\"\\nClassification Report:\")\n",
    "    print(classification_report(all_labels, all_preds, target_names=class_names))\n"
   ]
  },
  {
   "cell_type": "code",
   "execution_count": 28,
   "id": "8d5778bc",
   "metadata": {},
   "outputs": [
    {
     "name": "stderr",
     "output_type": "stream",
     "text": [
      "C:\\Users\\Lenovo\\AppData\\Local\\Temp\\ipykernel_7780\\2020444447.py:3: FutureWarning: You are using `torch.load` with `weights_only=False` (the current default value), which uses the default pickle module implicitly. It is possible to construct malicious pickle data which will execute arbitrary code during unpickling (See https://github.com/pytorch/pytorch/blob/main/SECURITY.md#untrusted-models for more details). In a future release, the default value for `weights_only` will be flipped to `True`. This limits the functions that could be executed during unpickling. Arbitrary objects will no longer be allowed to be loaded via this mode unless they are explicitly allowlisted by the user via `torch.serialization.add_safe_globals`. We recommend you start setting `weights_only=True` for any use case where you don't have full control of the loaded file. Please open an issue on GitHub for any issues related to this experimental feature.\n",
      "  model.load_state_dict(torch.load(\"cnn_lstm_model.pth\"))\n"
     ]
    },
    {
     "name": "stdout",
     "output_type": "stream",
     "text": [
      "Total valid patients found: 57\n",
      "\n",
      "Classification Report:\n",
      "              precision    recall  f1-score   support\n",
      "\n",
      "Non-Sianotik       1.00      0.80      0.89         5\n",
      "    Sianotik       0.67      1.00      0.80         2\n",
      "      Normal       1.00      1.00      1.00         5\n",
      "\n",
      "    accuracy                           0.92        12\n",
      "   macro avg       0.89      0.93      0.90        12\n",
      "weighted avg       0.94      0.92      0.92        12\n",
      "\n"
     ]
    }
   ],
   "source": [
    "# Load trained model\n",
    "model = CNNLSTM().to(DEVICE)\n",
    "model.load_state_dict(torch.load(\"cnn_lstm_model.pth\"))\n",
    "\n",
    "# Load validation dataset\n",
    "dataset = HeartSequenceDataset(DATA_DIR)\n",
    "train_size = int(0.8 * len(dataset))\n",
    "val_size = len(dataset) - train_size\n",
    "_, val_dataset = random_split(dataset, [train_size, val_size])\n",
    "val_loader = DataLoader(val_dataset, batch_size=BATCH_SIZE, pin_memory=True, num_workers=0)\n",
    "\n",
    "# Evaluate model\n",
    "evaluate_model(model, val_loader)"
   ]
  }
 ],
 "metadata": {
  "kernelspec": {
   "display_name": "skripsi",
   "language": "python",
   "name": "python3"
  },
  "language_info": {
   "codemirror_mode": {
    "name": "ipython",
    "version": 3
   },
   "file_extension": ".py",
   "mimetype": "text/x-python",
   "name": "python",
   "nbconvert_exporter": "python",
   "pygments_lexer": "ipython3",
   "version": "3.10.16"
  }
 },
 "nbformat": 4,
 "nbformat_minor": 5
}
